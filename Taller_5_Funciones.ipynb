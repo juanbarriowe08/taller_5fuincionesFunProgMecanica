{
  "cells": [
    {
      "cell_type": "markdown",
      "id": "66beb5a1",
      "metadata": {
        "id": "66beb5a1"
      },
      "source": [
        "# Fundamentos de Programación para Ingeniería Mecánica\n",
        "## UPB Montería - 202310\n",
        "### Taller 5: Funciones y Estructuras de Datos\n",
        "- Docente: Miguel Ortiz (miguel.ortizp@upb.edu.co)"
      ]
    },
    {
      "cell_type": "markdown",
      "id": "b4381f55",
      "metadata": {
        "id": "b4381f55"
      },
      "source": [
        "Datos del Estudiante:\n",
        "- Nombre: juan pablo barrios villalba \n",
        "- ID: 000522880\n",
        "- email: juan.barriosv@upb.edu.co"
      ]
    },
    {
      "cell_type": "markdown",
      "id": "433f35a0",
      "metadata": {
        "id": "433f35a0"
      },
      "source": [
        "> Resuelva los siguientes ejercicios utilizando **Funciones, Listas y Diccionarios**."
      ]
    },
    {
      "cell_type": "markdown",
      "id": "aead929b",
      "metadata": {
        "id": "aead929b"
      },
      "source": [
        "### Problema 1: Discurso Político (150xp)\n",
        "\n",
        "Diseñe el algoritmo y escriba un código en lenguaje de programación Python para generar discursos políticos aleatorios, teniendo en cuenta la siguiente imagen:\n",
        "\n",
        "![componentes de un discurso](https://github.com/Mikheltodd/FunProgMec_202310_Taller5/blob/main/discurso.png?raw=1)\n",
        "\n",
        "Para ello, debe solicitar al usuario el nombre del candidato, un presupuesto general, y tres (3) porcentajes que representen los dineros que destinará a diferentes sectores seleccionados de forma aleatoria (lista de beneficio populista).\n",
        "\n",
        "Crea una función sin parámetros que retorne un string con el mensaje político. Dentro de la función deben aparecer los inputs para solicitar información al usuario. Guarda el mensaje creado por la función en una variable llamada `mensaje_politico` e imprime su valor en consola. \n",
        "\n",
        "**Ejemplo:**\n",
        "\n",
        "```\n",
        ">>> Entradas:\n",
        "Ingrese nombre del candidato: Chocolove McDonell\n",
        "Ingrese presupuesto (en millones de pesos): 1250\n",
        "Ingrese Porcentaje 1: 25\n",
        "Ingrese Porcentaje 2: 30\n",
        "Ingrese Porcentaje 3: 45\n",
        ">>> Salidas:\n",
        "Estimados copartidarios. \n",
        "Mi nombre es Chocolove McDonell y hoy vengo a decirles que, con su ayuda combatiré el desplazamiento y promoveré la educación de cada colombiano. Y es por eso que hoy he venido a proponerles invertir $1250.0 millones de pesos de la siguiente manera: \n",
        " - $312.5 millones de pesos en el empleo \n",
        " - $375.0 millones de pesos en la educación \n",
        " - $562.5 millones de pesos en la salud \n",
        "```\n",
        "\n",
        "**Nota:** para seleccionar un elemento aleatorio de una lista puede utilizar la función `choice()` de la librería random:\n",
        "\n",
        "```python\n",
        "import random\n",
        "random.choice([1, 2, 3])\n",
        "```\n",
        "\n",
        "**Recomendación:** cree las variables sin acento (tildes) y en minúsculas. "
      ]
    },
    {
      "cell_type": "code",
      "source": [
        "import random\n",
        "\n",
        "def generar_discurso():\n",
        "    # Componentes del discurso\n",
        "    titulo = ['Queridos ', 'Apreciados ', 'Distinguidos ', 'Honorables ', 'Estimados ', 'Respetados ']\n",
        "    publico_objetivo = ['compatrotas ', 'compartidarios ', 'amigos ', 'coterraneos ', 'ciudadanos ', 'electores ']\n",
        "    condicion = ['en mi gobierno ', 'con su apoyo ', 'siendo elegido ', 'con su ayuda ', 'si me siguen ', 'durante mi mandato ']\n",
        "    compromiso = ['voy a derrotar ', 'venceré ', 'eliminaré ', 'acabaré ', 'lucharé contra ', 'combatiré ']\n",
        "    ilucion_lucha = ['la violencia y ', 'la delincuencia y ', 'la corrupción y ', 'la inflación y ', 'la pobreza y ', 'el desplazamiento y ']\n",
        "    promesa = ['trabajaré por ', 'garantizaré ', 'protegeré ', 'velaré por ', 'promoveré ', 'defenderé ']\n",
        "    beneficio = ['la educación ', 'el empleo ', 'la seguridad ', 'la paz ', 'la igualdad ', 'la salud ']\n",
        "    cantidad_votos = ['del país ', 'de la ciudad ', 'de la comunidad ', 'de la población ', 'para toda la gente ', 'de cada colombiano ']\n",
        "\n",
        "    # Solicitar información al usuario\n",
        "    candidato = input(\"Ingrese el nombre del candidato: \")\n",
        "    presupuesto = float(input(\"Ingrese el presupuesto general (en millones ): \"))\n",
        "    porcentajes = input(\"Ingrese los porcentajes separados por un salto de línea para los siguientes sectores ( ejemplo, 10 20 30)\")\n",
        "    porcentajes = [int(p) for p in porcentajes.split()]\n",
        "\n",
        "    # Calcular inversiones por sector\n",
        "    sectores = ['educación', 'salud', 'seguridad']\n",
        "    inversiones = {}\n",
        "    for sector in sectores:\n",
        "        inversion = presupuesto * (porcentajes[sectores.index(sector)] / 100)\n",
        "        inversiones[sector] = inversion\n",
        "\n",
        "    # Construir mensaje político\n",
        "    mensaje = f\"{random.choice(titulo)}{random.choice(publico_objetivo)}mi nombre es {candidato}, {random.choice(condicion)}{random.choice(compromiso)}{random.choice(ilucion_lucha)}y {random.choice(promesa)}{random.choice(beneficio)}para el bienestar {random.choice(cantidad_votos)}.\"\n",
        "    mensaje += f\"\\n\\nEl presupuesto general destinado para mi gobierno será de ${presupuesto:.2f}.\"\n",
        "    mensaje += \"\\n\\nA continuación, se detallan las inversiones por sector:\\n\"\n",
        "    for sector in sectores:\n",
        "        mensaje += f\"\\n- Destinaremos el {porcentajes[sectores.index(sector)]}% del presupuesto, es decir, ${inversiones[sector]:.2f}, para mejorar el sector de {sector}.\"\n",
        "\n",
        "    return mensaje\n",
        "\n",
        "mensaje_politico = generar_discurso()\n",
        "print(mensaje_politico)"
      ],
      "metadata": {
        "id": "LMDt1g6-UkTS",
        "outputId": "621eaf6e-c482-48da-b784-ffa8d2f9e684",
        "colab": {
          "base_uri": "https://localhost:8080/"
        }
      },
      "id": "LMDt1g6-UkTS",
      "execution_count": 3,
      "outputs": [
        {
          "output_type": "stream",
          "name": "stdout",
          "text": [
            "Ingrese el nombre del candidato: juan pablo \n",
            "Ingrese el presupuesto general (en millones ): 1250\n",
            "Ingrese los porcentajes separados por un salto de línea para los siguientes sectores ( ejemplo, 10 20 30)25 30 45 \n",
            "Apreciados coterraneos mi nombre es juan pablo , siendo elegido lucharé contra la pobreza y y protegeré la igualdad para el bienestar para toda la gente .\n",
            "\n",
            "El presupuesto general destinado para mi gobierno será de $1250.00.\n",
            "\n",
            "A continuación, se detallan las inversiones por sector:\n",
            "\n",
            "- Destinaremos el 25% del presupuesto, es decir, $312.50, para mejorar el sector de educación.\n",
            "- Destinaremos el 30% del presupuesto, es decir, $375.00, para mejorar el sector de salud.\n",
            "- Destinaremos el 45% del presupuesto, es decir, $562.50, para mejorar el sector de seguridad.\n"
          ]
        }
      ]
    },
    {
      "cell_type": "code",
      "source": [],
      "metadata": {
        "id": "6Xr1W8aFNBAM"
      },
      "id": "6Xr1W8aFNBAM",
      "execution_count": null,
      "outputs": []
    }
  ],
  "metadata": {
    "kernelspec": {
      "display_name": "Python 3 (ipykernel)",
      "language": "python",
      "name": "python3"
    },
    "language_info": {
      "codemirror_mode": {
        "name": "ipython",
        "version": 3
      },
      "file_extension": ".py",
      "mimetype": "text/x-python",
      "name": "python",
      "nbconvert_exporter": "python",
      "pygments_lexer": "ipython3",
      "version": "3.10.6"
    },
    "colab": {
      "provenance": []
    }
  },
  "nbformat": 4,
  "nbformat_minor": 5
}